{
  "cells": [
    {
      "cell_type": "markdown",
      "id": "1ac2c0aa",
      "metadata": {
        "id": "1ac2c0aa"
      },
      "source": [
        "Hi!\n",
        "Today we will play with German words!\n",
        "\n",
        "A computer can't understand 'words' as we do, it can only understand numbers. So we have to translate words into numbers (vectors). \n",
        "\n",
        "There are a lot of ways to do this. A simple one is just to number them: 'der' -> 1, 'die' -> 2, etc.  But there are better ways - one of them is to give similar words similar numbers.\n",
        "\n",
        "Then we can group similar words together, see how close they are, and other interesting things. \n",
        "\n",
        "This is used, for example, when you Google something, and the results will also have words similar to the one you wrote ('doggy' -> 'dog', etc.) .\n",
        "\n",
        "Today you will:\n",
        "- Look at some German words and how close they are together\n",
        "- Add your own words!\n",
        "- See if there are groups of similar words, give them names\n",
        "\n",
        "If you think this is interesting and want more:\n",
        "- Find the 5 most similar words to another word\n",
        "- See how similar two words are\n",
        "- explore the 5000 most used words :)\n",
        "\n",
        "Above you can see \"cells\". To execute one cell press Shift+Enter.\n",
        "You can execute cells so many times that you need.\n",
        "\n"
      ]
    },
    {
      "cell_type": "code",
      "execution_count": null,
      "id": "cb94a1d6",
      "metadata": {
        "colab": {
          "base_uri": "https://localhost:8080/"
        },
        "id": "cb94a1d6",
        "outputId": "fdd8e9ca-6f8f-418d-f3a3-511c9bf41dcd"
      },
      "outputs": [
        {
          "output_type": "stream",
          "name": "stdout",
          "text": [
            "Erfolg!\n"
          ]
        }
      ],
      "source": [
        "#nothing to do here, just execute (Shift + Enter)\n",
        "\n",
        "import pandas as pd\n",
        "import ast\n",
        "import numpy as np\n",
        "from sklearn.cluster import KMeans\n",
        "from sklearn.manifold import TSNE\n",
        "import pickle\n",
        "\n",
        "print('Erfolg!')"
      ]
    },
    {
      "cell_type": "code",
      "source": [
        "#(Shift + Enter)\n",
        "# during executing of this cell will appear a window\n",
        "# 1. where you need to select mariiatkachenkomariia@gmail.com\n",
        "# 2. then will appear another window with permissions - press down right button \"Zulassen\"\n",
        "\n",
        "from google.colab import drive\n",
        "drive.mount('/content/drive')\n",
        "\n",
        "print('Erfolg!')"
      ],
      "metadata": {
        "colab": {
          "base_uri": "https://localhost:8080/"
        },
        "id": "kcAj_lbAADsT",
        "outputId": "636ff2ea-de57-40e6-b05e-da9bc67f7bf3"
      },
      "id": "kcAj_lbAADsT",
      "execution_count": null,
      "outputs": [
        {
          "output_type": "stream",
          "name": "stdout",
          "text": [
            "Mounted at /content/drive\n"
          ]
        }
      ]
    },
    {
      "cell_type": "code",
      "execution_count": null,
      "id": "63f2bb73",
      "metadata": {
        "colab": {
          "base_uri": "https://localhost:8080/"
        },
        "id": "63f2bb73",
        "outputId": "f04fc70e-12b7-48e9-c47f-b83b633b5e12"
      },
      "outputs": [
        {
          "output_type": "stream",
          "name": "stdout",
          "text": [
            "Erfolg!\n"
          ]
        }
      ],
      "source": [
        "#nothing to do here, just execute (Shift + Enter)\n",
        "\n",
        "x = pd.read_csv('drive/MyDrive/vectors.txt', \n",
        "                sep=' ', \n",
        "                nrows=10000, \n",
        "                header=None, \n",
        "                converters={0: lambda s: ast.literal_eval(s).decode('utf-8')})\n",
        "print('Erfolg!')"
      ]
    },
    {
      "cell_type": "code",
      "execution_count": null,
      "id": "e912409c",
      "metadata": {
        "id": "e912409c",
        "colab": {
          "base_uri": "https://localhost:8080/"
        },
        "outputId": "bb0616f9-c4a6-4a43-d985-5666a40863ea"
      },
      "outputs": [
        {
          "output_type": "stream",
          "name": "stdout",
          "text": [
            "Erfolg!\n"
          ]
        }
      ],
      "source": [
        "#nothing to do here, just execute (Shift + Enter)\n",
        "\n",
        "X = np.array(x)\n",
        "X_vectors = X[:, 1:]\n",
        "X_words = X[:, 0]\n",
        "print('Erfolg!')"
      ]
    },
    {
      "cell_type": "code",
      "execution_count": null,
      "id": "a0fbcc4c",
      "metadata": {
        "id": "a0fbcc4c",
        "colab": {
          "base_uri": "https://localhost:8080/"
        },
        "outputId": "a64925d2-e654-43f4-e197-10015e73128c"
      },
      "outputs": [
        {
          "output_type": "stream",
          "name": "stderr",
          "text": [
            "/usr/local/lib/python3.7/dist-packages/sklearn/manifold/_t_sne.py:783: FutureWarning: The default initialization in TSNE will change from 'random' to 'pca' in 1.2.\n",
            "  FutureWarning,\n",
            "/usr/local/lib/python3.7/dist-packages/sklearn/manifold/_t_sne.py:793: FutureWarning: The default learning rate in TSNE will change from 200.0 to 'auto' in 1.2.\n",
            "  FutureWarning,\n"
          ]
        },
        {
          "output_type": "stream",
          "name": "stdout",
          "text": [
            "Erfolg!\n"
          ]
        }
      ],
      "source": [
        "#nothing to do here, just execute (Shift + Enter)\n",
        "#executing of this cell can take some time ~1min\n",
        "\n",
        "X_2d = TSNE(n_components=2).fit_transform(X_vectors)\n",
        "print('Erfolg!')"
      ]
    },
    {
      "cell_type": "markdown",
      "id": "d8cac1ae",
      "metadata": {
        "id": "d8cac1ae"
      },
      "source": [
        "## Playground №1. Choose your words \n",
        "You can:\n",
        "- do nothing, and run everything just like it is\n",
        "- add words you like (in quotes, like `'Freitag'`), don't forget the comma at the end!\n",
        "- delete words\n",
        "- ignore words by _commenting them out_: just add `#` in front of the word  (see example near 'Kathrin')\n",
        "- add them back by deleting '#'\n"
      ]
    },
    {
      "cell_type": "code",
      "execution_count": null,
      "id": "d79feffe",
      "metadata": {
        "id": "d79feffe",
        "colab": {
          "base_uri": "https://localhost:8080/"
        },
        "outputId": "471cad0a-b0d2-41d3-9a2a-4b10c46cc007"
      },
      "outputs": [
        {
          "output_type": "stream",
          "name": "stdout",
          "text": [
            "Erfolg!\n"
          ]
        }
      ],
      "source": [
        "words = [\n",
        "    'Mutter',\n",
        "    'Vater',\n",
        "    'der',\n",
        "    'die',\n",
        "    'das',\n",
        "    'Schwester',\n",
        "    'Straße',\n",
        "    'Straßenbahn',\n",
        "    'Haus',\n",
        "    'Tier',\n",
        "    #'Kathrin',\n",
        "    'Christian',\n",
        "    'Mann',\n",
        "    'Frau',\n",
        "    'schwimmen',\n",
        "    'in',\n",
        "    'im',\n",
        "    'Herr',\n",
        "    'Schule',\n",
        "    'Osten',\n",
        "    'Anna',\n",
        "    'England',\n",
        "    'Bär',\n",
        "    'Wahrheit',\n",
        "    'Deutschland',\n",
        "    'Idee',\n",
        "    'spielen',\n",
        "    'dem',\n",
        "    'Berlin',\n",
        "    'Traum',\n",
        "    'Zeit',\n",
        "    'Spiegel',\n",
        "    'Freundschaft',\n",
        "    'Liebe',\n",
        "    'Göttin'\n",
        "]\n",
        "\n",
        "print('Erfolg!')"
      ]
    },
    {
      "cell_type": "code",
      "execution_count": null,
      "id": "9589bfd1",
      "metadata": {
        "id": "9589bfd1",
        "colab": {
          "base_uri": "https://localhost:8080/"
        },
        "outputId": "d84b251b-d240-4335-b36d-47e075c189d7"
      },
      "outputs": [
        {
          "output_type": "stream",
          "name": "stdout",
          "text": [
            "Number of words you wrote, and number of them in the dictionary: (34,) (34,)\n"
          ]
        }
      ],
      "source": [
        "#execute (Shift + Enter) and check if all words are available in dictionary\n",
        "\n",
        "words = np.array(list(map(lambda w: w.lower(), words)))\n",
        "ind = np.flatnonzero([word_ in words for word_ in X_words])\n",
        "\n",
        "if ind.shape[0] != words.shape[0]:\n",
        "  print('Warning! Check these words: ', set(words) - set(X_words[ind]))\n",
        "  print('It could be spelled wrong, or not available')\n",
        "\n",
        "print('Number of words you wrote, and number of them in the dictionary:', words.shape, X_words[ind].shape)"
      ]
    },
    {
      "cell_type": "markdown",
      "id": "9657cd6e",
      "metadata": {
        "id": "9657cd6e"
      },
      "source": [
        "##Playground №2. Group words  \n",
        "Here you can see the words on the screen. You can see that some words are close together, some aren't.\n",
        "\n",
        "There's a slider over the plot.\n",
        "- Try dragging it and see what it does! \n",
        "- Find the best number of groups\n",
        "\n",
        "- See if there are interesting groups of words\n",
        "- Try giving names to the groups\n",
        "- Does anything surprise you? Are any words not where you expect them to be?\n",
        "- Think of a word, try guessing where it'll be on the screen. Then add it and see if it's there!\n",
        "\n",
        "Try clicking all the buttons located on the top-right of the screen and see what they do!\n",
        "\n",
        "You can:\n",
        "- Zoom in and out\n",
        "- Click and drag to move, once you're zoomed in\n"
      ]
    },
    {
      "cell_type": "code",
      "execution_count": null,
      "id": "f820af35",
      "metadata": {
        "id": "f820af35",
        "colab": {
          "base_uri": "https://localhost:8080/",
          "height": 592,
          "referenced_widgets": [
            "f1550dab60804e209ace8a4804df384f",
            "923fc6f02c394d56aed8b0cb4a6f3235",
            "3e81633bb417478eb7775d5afbd863b5",
            "eb475f1db3364facb1c20cd2d8b36432",
            "8061a491f9604c9390f8b560a650c267",
            "b2377d1d05fa47d8a41a9dd4298ca89e",
            "02a3fea5b3dc419fac3eeac2a0e8f708"
          ]
        },
        "outputId": "83fb94c6-2738-488c-a14a-14cb7754e960"
      },
      "outputs": [
        {
          "output_type": "display_data",
          "data": {
            "application/vnd.jupyter.widget-view+json": {
              "model_id": "f1550dab60804e209ace8a4804df384f",
              "version_minor": 0,
              "version_major": 2
            },
            "text/plain": [
              "interactive(children=(FloatSlider(value=5.0, description='groups', max=10.0, min=1.0, step=1.0), Output()), _d…"
            ]
          },
          "metadata": {}
        },
        {
          "output_type": "execute_result",
          "data": {
            "text/plain": [
              "<function __main__.plot_func>"
            ]
          },
          "metadata": {},
          "execution_count": 9
        }
      ],
      "source": [
        "import plotly.express as px\n",
        "from ipywidgets import interact\n",
        "import ipywidgets as widgets\n",
        "\n",
        "\n",
        "def plot_func(groups):\n",
        "    X_plotly = {\n",
        "        'words': X_words[ind],\n",
        "        'x': X_2d[ind, 0],\n",
        "        'y': X_2d[ind, 1]\n",
        "    }\n",
        "\n",
        "\n",
        "    kmeans = KMeans(n_clusters=int(groups), random_state=0).fit(X_2d[ind])\n",
        "    labels_pred = kmeans.predict(X_2d[ind])\n",
        "    X_plotly['labels'] = labels_pred\n",
        "\n",
        "    fig = px.scatter(X_plotly, x=\"x\", y=\"y\", text=\"words\", color='labels')\n",
        "    fig.update_traces(textposition='top center')\n",
        "    fig.show()\n",
        "\n",
        "interact(plot_func, groups = widgets.FloatSlider(value=5,\n",
        "                                               min=1,\n",
        "                                               max=10,\n",
        "                                               step=1))"
      ]
    },
    {
      "cell_type": "markdown",
      "id": "efcb5235",
      "metadata": {
        "id": "efcb5235"
      },
      "source": [
        "https://www.youtube.com/watch?v=Gn6fPYD1oIU\n",
        "Explanation of kmeans and word2vec(?)"
      ]
    },
    {
      "cell_type": "markdown",
      "id": "ba177c38",
      "metadata": {
        "id": "ba177c38"
      },
      "source": [
        "## Playground 3. Find the most similar words \n",
        "Here you can try:"
      ]
    },
    {
      "cell_type": "code",
      "execution_count": null,
      "id": "a4e9e7d2",
      "metadata": {
        "id": "a4e9e7d2"
      },
      "outputs": [],
      "source": [
        "#nothing to do here, just execute (Shift + Enter)\n",
        "\n",
        "from gensim.models import KeyedVectors\n",
        "\n",
        "model = KeyedVectors.load_word2vec_format('drive/MyDrive/german.model', binary=True)\n",
        "print('Erfolg!')"
      ]
    },
    {
      "cell_type": "code",
      "source": [
        "model.similarity('Vater', 'Frau')"
      ],
      "metadata": {
        "colab": {
          "base_uri": "https://localhost:8080/"
        },
        "id": "SzNzQOpihs9n",
        "outputId": "79c4b2c6-4768-4167-8a9b-b3ba392eb38f"
      },
      "id": "SzNzQOpihs9n",
      "execution_count": null,
      "outputs": [
        {
          "output_type": "execute_result",
          "data": {
            "text/plain": [
              "0.61061585"
            ]
          },
          "metadata": {},
          "execution_count": 7
        }
      ]
    },
    {
      "cell_type": "markdown",
      "source": [
        "Explanation of similarity"
      ],
      "metadata": {
        "id": "QogmrJ4mmSCw"
      },
      "id": "QogmrJ4mmSCw"
    },
    {
      "cell_type": "code",
      "source": [
        "model.most_similar('Deutschland')"
      ],
      "metadata": {
        "colab": {
          "base_uri": "https://localhost:8080/"
        },
        "id": "Qe7L6-sqhtLh",
        "outputId": "d621754c-6241-4dbd-f621-23b029076c2c"
      },
      "id": "Qe7L6-sqhtLh",
      "execution_count": null,
      "outputs": [
        {
          "output_type": "execute_result",
          "data": {
            "text/plain": [
              "[('Europa', 0.8077093958854675),\n",
              " ('Oesterreich', 0.794025182723999),\n",
              " ('hierzulande', 0.7399864196777344),\n",
              " ('Grossbritannien', 0.7186919450759888),\n",
              " ('Frankreich', 0.71364426612854),\n",
              " ('europaeischen_Laendern', 0.7121028900146484),\n",
              " ('Bundesrepublik', 0.7084769010543823),\n",
              " ('USA', 0.691025972366333),\n",
              " ('Schweiz', 0.6894618272781372),\n",
              " ('EU-Laendern', 0.6851561665534973)]"
            ]
          },
          "metadata": {},
          "execution_count": 20
        }
      ]
    },
    {
      "cell_type": "markdown",
      "source": [
        ""
      ],
      "metadata": {
        "id": "bgtu7bPAkLLs"
      },
      "id": "bgtu7bPAkLLs"
    }
  ],
  "metadata": {
    "kernelspec": {
      "display_name": "Python 3",
      "language": "python",
      "name": "python3"
    },
    "language_info": {
      "codemirror_mode": {
        "name": "ipython",
        "version": 3
      },
      "file_extension": ".py",
      "mimetype": "text/x-python",
      "name": "python",
      "nbconvert_exporter": "python",
      "pygments_lexer": "ipython3",
      "version": "3.8.8"
    },
    "colab": {
      "name": "girlsday_original.ipynb",
      "provenance": [],
      "collapsed_sections": [],
      "toc_visible": true
    },
    "widgets": {
      "application/vnd.jupyter.widget-state+json": {
        "f1550dab60804e209ace8a4804df384f": {
          "model_module": "@jupyter-widgets/controls",
          "model_name": "VBoxModel",
          "model_module_version": "1.5.0",
          "state": {
            "_view_name": "VBoxView",
            "_dom_classes": [
              "widget-interact"
            ],
            "_model_name": "VBoxModel",
            "_view_module": "@jupyter-widgets/controls",
            "_model_module_version": "1.5.0",
            "_view_count": null,
            "_view_module_version": "1.5.0",
            "box_style": "",
            "layout": "IPY_MODEL_923fc6f02c394d56aed8b0cb4a6f3235",
            "_model_module": "@jupyter-widgets/controls",
            "children": [
              "IPY_MODEL_3e81633bb417478eb7775d5afbd863b5",
              "IPY_MODEL_eb475f1db3364facb1c20cd2d8b36432"
            ]
          }
        },
        "923fc6f02c394d56aed8b0cb4a6f3235": {
          "model_module": "@jupyter-widgets/base",
          "model_name": "LayoutModel",
          "model_module_version": "1.2.0",
          "state": {
            "_view_name": "LayoutView",
            "grid_template_rows": null,
            "right": null,
            "justify_content": null,
            "_view_module": "@jupyter-widgets/base",
            "overflow": null,
            "_model_module_version": "1.2.0",
            "_view_count": null,
            "flex_flow": null,
            "width": null,
            "min_width": null,
            "border": null,
            "align_items": null,
            "bottom": null,
            "_model_module": "@jupyter-widgets/base",
            "top": null,
            "grid_column": null,
            "overflow_y": null,
            "overflow_x": null,
            "grid_auto_flow": null,
            "grid_area": null,
            "grid_template_columns": null,
            "flex": null,
            "_model_name": "LayoutModel",
            "justify_items": null,
            "grid_row": null,
            "max_height": null,
            "align_content": null,
            "visibility": null,
            "align_self": null,
            "height": null,
            "min_height": null,
            "padding": null,
            "grid_auto_rows": null,
            "grid_gap": null,
            "max_width": null,
            "order": null,
            "_view_module_version": "1.2.0",
            "grid_template_areas": null,
            "object_position": null,
            "object_fit": null,
            "grid_auto_columns": null,
            "margin": null,
            "display": null,
            "left": null
          }
        },
        "3e81633bb417478eb7775d5afbd863b5": {
          "model_module": "@jupyter-widgets/controls",
          "model_name": "FloatSliderModel",
          "model_module_version": "1.5.0",
          "state": {
            "_view_name": "FloatSliderView",
            "style": "IPY_MODEL_8061a491f9604c9390f8b560a650c267",
            "_dom_classes": [],
            "description": "groups",
            "step": 1,
            "_model_name": "FloatSliderModel",
            "orientation": "horizontal",
            "max": 10,
            "_view_module": "@jupyter-widgets/controls",
            "_model_module_version": "1.5.0",
            "value": 5,
            "_view_count": null,
            "disabled": false,
            "_view_module_version": "1.5.0",
            "min": 1,
            "continuous_update": true,
            "readout_format": ".2f",
            "description_tooltip": null,
            "readout": true,
            "_model_module": "@jupyter-widgets/controls",
            "layout": "IPY_MODEL_b2377d1d05fa47d8a41a9dd4298ca89e"
          }
        },
        "eb475f1db3364facb1c20cd2d8b36432": {
          "model_module": "@jupyter-widgets/output",
          "model_name": "OutputModel",
          "model_module_version": "1.0.0",
          "state": {
            "_view_name": "OutputView",
            "msg_id": "",
            "_dom_classes": [],
            "_model_name": "OutputModel",
            "outputs": [
              {
                "output_type": "display_data",
                "data": {
                  "text/html": "<html>\n<head><meta charset=\"utf-8\" /></head>\n<body>\n    <div>            <script src=\"https://cdnjs.cloudflare.com/ajax/libs/mathjax/2.7.5/MathJax.js?config=TeX-AMS-MML_SVG\"></script><script type=\"text/javascript\">if (window.MathJax) {MathJax.Hub.Config({SVG: {font: \"STIX-Web\"}});}</script>                <script type=\"text/javascript\">window.PlotlyConfig = {MathJaxConfig: 'local'};</script>\n        <script src=\"https://cdn.plot.ly/plotly-2.8.3.min.js\"></script>                <div id=\"5fc544f9-2775-4b07-872d-4ef87f8f45a2\" class=\"plotly-graph-div\" style=\"height:525px; width:100%;\"></div>            <script type=\"text/javascript\">                                    window.PLOTLYENV=window.PLOTLYENV || {};                                    if (document.getElementById(\"5fc544f9-2775-4b07-872d-4ef87f8f45a2\")) {                    Plotly.newPlot(                        \"5fc544f9-2775-4b07-872d-4ef87f8f45a2\",                        [{\"hovertemplate\":\"x=%{x}<br>y=%{y}<br>words=%{text}<br>labels=%{marker.color}<extra></extra>\",\"legendgroup\":\"\",\"marker\":{\"color\":[0,0,0,3,0,0,1,0,1,3,3,1,1,1,2,1,2,3,1,4,1,2,1,1,2,2,3,2,3,2,4,2,1,3],\"coloraxis\":\"coloraxis\",\"symbol\":\"circle\"},\"mode\":\"markers+text\",\"name\":\"\",\"orientation\":\"v\",\"showlegend\":false,\"text\":[\"der\",\"die\",\"in\",\"im\",\"das\",\"dem\",\"berlin\",\"zeit\",\"deutschland\",\"stra\\u00dfe\",\"haus\",\"mann\",\"frau\",\"vater\",\"schule\",\"christian\",\"spielen\",\"osten\",\"mutter\",\"england\",\"anna\",\"liebe\",\"schwester\",\"herr\",\"idee\",\"spiegel\",\"tier\",\"wahrheit\",\"stra\\u00dfenbahn\",\"freundschaft\",\"schwimmen\",\"traum\",\"g\\u00f6ttin\",\"b\\u00e4r\"],\"x\":[-77.01448059082031,-76.66216278076172,-53.2349967956543,-34.13041687011719,-82.5936279296875,-75.8984375,27.449594497680664,-37.5843505859375,28.591279983520508,-21.132221221923828,-14.31149959564209,21.459436416625977,21.11856460571289,17.205678939819336,17.696958541870117,48.128639221191406,1.8385586738586426,-33.952919006347656,19.451284408569336,61.04808807373047,54.834815979003906,-9.133210182189941,19.536699295043945,13.681504249572754,-21.131771087646484,19.713102340698242,-51.17444610595703,-13.143756866455078,-21.55276870727539,-9.503740310668945,43.89958572387695,-8.66667652130127,1.0116307735443115,-68.59288787841797],\"xaxis\":\"x\",\"y\":[16.427467346191406,16.616130828857422,-7.3155646324157715,-71.76337432861328,23.469791412353516,23.39297103881836,-71.94060516357422,-9.668827056884766,-53.31243896484375,-50.87516784667969,-51.14458465576172,-28.069185256958008,-28.666025161743164,-30.909961700439453,-0.4193786084651947,-44.99138641357422,48.72420120239258,-70.96717834472656,-30.280853271484375,20.70404624938965,-38.26484680175781,27.419984817504883,-30.801692962646484,-36.502113342285156,33.487552642822266,26.588895797729492,-46.746158599853516,27.517656326293945,-58.641414642333984,24.673686981201172,30.86815643310547,27.975801467895508,-27.275901794433594,-50.99051284790039],\"yaxis\":\"y\",\"type\":\"scatter\",\"textposition\":\"top center\"}],                        {\"template\":{\"data\":{\"bar\":[{\"error_x\":{\"color\":\"#2a3f5f\"},\"error_y\":{\"color\":\"#2a3f5f\"},\"marker\":{\"line\":{\"color\":\"#E5ECF6\",\"width\":0.5},\"pattern\":{\"fillmode\":\"overlay\",\"size\":10,\"solidity\":0.2}},\"type\":\"bar\"}],\"barpolar\":[{\"marker\":{\"line\":{\"color\":\"#E5ECF6\",\"width\":0.5},\"pattern\":{\"fillmode\":\"overlay\",\"size\":10,\"solidity\":0.2}},\"type\":\"barpolar\"}],\"carpet\":[{\"aaxis\":{\"endlinecolor\":\"#2a3f5f\",\"gridcolor\":\"white\",\"linecolor\":\"white\",\"minorgridcolor\":\"white\",\"startlinecolor\":\"#2a3f5f\"},\"baxis\":{\"endlinecolor\":\"#2a3f5f\",\"gridcolor\":\"white\",\"linecolor\":\"white\",\"minorgridcolor\":\"white\",\"startlinecolor\":\"#2a3f5f\"},\"type\":\"carpet\"}],\"choropleth\":[{\"colorbar\":{\"outlinewidth\":0,\"ticks\":\"\"},\"type\":\"choropleth\"}],\"contour\":[{\"colorbar\":{\"outlinewidth\":0,\"ticks\":\"\"},\"colorscale\":[[0.0,\"#0d0887\"],[0.1111111111111111,\"#46039f\"],[0.2222222222222222,\"#7201a8\"],[0.3333333333333333,\"#9c179e\"],[0.4444444444444444,\"#bd3786\"],[0.5555555555555556,\"#d8576b\"],[0.6666666666666666,\"#ed7953\"],[0.7777777777777778,\"#fb9f3a\"],[0.8888888888888888,\"#fdca26\"],[1.0,\"#f0f921\"]],\"type\":\"contour\"}],\"contourcarpet\":[{\"colorbar\":{\"outlinewidth\":0,\"ticks\":\"\"},\"type\":\"contourcarpet\"}],\"heatmap\":[{\"colorbar\":{\"outlinewidth\":0,\"ticks\":\"\"},\"colorscale\":[[0.0,\"#0d0887\"],[0.1111111111111111,\"#46039f\"],[0.2222222222222222,\"#7201a8\"],[0.3333333333333333,\"#9c179e\"],[0.4444444444444444,\"#bd3786\"],[0.5555555555555556,\"#d8576b\"],[0.6666666666666666,\"#ed7953\"],[0.7777777777777778,\"#fb9f3a\"],[0.8888888888888888,\"#fdca26\"],[1.0,\"#f0f921\"]],\"type\":\"heatmap\"}],\"heatmapgl\":[{\"colorbar\":{\"outlinewidth\":0,\"ticks\":\"\"},\"colorscale\":[[0.0,\"#0d0887\"],[0.1111111111111111,\"#46039f\"],[0.2222222222222222,\"#7201a8\"],[0.3333333333333333,\"#9c179e\"],[0.4444444444444444,\"#bd3786\"],[0.5555555555555556,\"#d8576b\"],[0.6666666666666666,\"#ed7953\"],[0.7777777777777778,\"#fb9f3a\"],[0.8888888888888888,\"#fdca26\"],[1.0,\"#f0f921\"]],\"type\":\"heatmapgl\"}],\"histogram\":[{\"marker\":{\"pattern\":{\"fillmode\":\"overlay\",\"size\":10,\"solidity\":0.2}},\"type\":\"histogram\"}],\"histogram2d\":[{\"colorbar\":{\"outlinewidth\":0,\"ticks\":\"\"},\"colorscale\":[[0.0,\"#0d0887\"],[0.1111111111111111,\"#46039f\"],[0.2222222222222222,\"#7201a8\"],[0.3333333333333333,\"#9c179e\"],[0.4444444444444444,\"#bd3786\"],[0.5555555555555556,\"#d8576b\"],[0.6666666666666666,\"#ed7953\"],[0.7777777777777778,\"#fb9f3a\"],[0.8888888888888888,\"#fdca26\"],[1.0,\"#f0f921\"]],\"type\":\"histogram2d\"}],\"histogram2dcontour\":[{\"colorbar\":{\"outlinewidth\":0,\"ticks\":\"\"},\"colorscale\":[[0.0,\"#0d0887\"],[0.1111111111111111,\"#46039f\"],[0.2222222222222222,\"#7201a8\"],[0.3333333333333333,\"#9c179e\"],[0.4444444444444444,\"#bd3786\"],[0.5555555555555556,\"#d8576b\"],[0.6666666666666666,\"#ed7953\"],[0.7777777777777778,\"#fb9f3a\"],[0.8888888888888888,\"#fdca26\"],[1.0,\"#f0f921\"]],\"type\":\"histogram2dcontour\"}],\"mesh3d\":[{\"colorbar\":{\"outlinewidth\":0,\"ticks\":\"\"},\"type\":\"mesh3d\"}],\"parcoords\":[{\"line\":{\"colorbar\":{\"outlinewidth\":0,\"ticks\":\"\"}},\"type\":\"parcoords\"}],\"pie\":[{\"automargin\":true,\"type\":\"pie\"}],\"scatter\":[{\"marker\":{\"colorbar\":{\"outlinewidth\":0,\"ticks\":\"\"}},\"type\":\"scatter\"}],\"scatter3d\":[{\"line\":{\"colorbar\":{\"outlinewidth\":0,\"ticks\":\"\"}},\"marker\":{\"colorbar\":{\"outlinewidth\":0,\"ticks\":\"\"}},\"type\":\"scatter3d\"}],\"scattercarpet\":[{\"marker\":{\"colorbar\":{\"outlinewidth\":0,\"ticks\":\"\"}},\"type\":\"scattercarpet\"}],\"scattergeo\":[{\"marker\":{\"colorbar\":{\"outlinewidth\":0,\"ticks\":\"\"}},\"type\":\"scattergeo\"}],\"scattergl\":[{\"marker\":{\"colorbar\":{\"outlinewidth\":0,\"ticks\":\"\"}},\"type\":\"scattergl\"}],\"scattermapbox\":[{\"marker\":{\"colorbar\":{\"outlinewidth\":0,\"ticks\":\"\"}},\"type\":\"scattermapbox\"}],\"scatterpolar\":[{\"marker\":{\"colorbar\":{\"outlinewidth\":0,\"ticks\":\"\"}},\"type\":\"scatterpolar\"}],\"scatterpolargl\":[{\"marker\":{\"colorbar\":{\"outlinewidth\":0,\"ticks\":\"\"}},\"type\":\"scatterpolargl\"}],\"scatterternary\":[{\"marker\":{\"colorbar\":{\"outlinewidth\":0,\"ticks\":\"\"}},\"type\":\"scatterternary\"}],\"surface\":[{\"colorbar\":{\"outlinewidth\":0,\"ticks\":\"\"},\"colorscale\":[[0.0,\"#0d0887\"],[0.1111111111111111,\"#46039f\"],[0.2222222222222222,\"#7201a8\"],[0.3333333333333333,\"#9c179e\"],[0.4444444444444444,\"#bd3786\"],[0.5555555555555556,\"#d8576b\"],[0.6666666666666666,\"#ed7953\"],[0.7777777777777778,\"#fb9f3a\"],[0.8888888888888888,\"#fdca26\"],[1.0,\"#f0f921\"]],\"type\":\"surface\"}],\"table\":[{\"cells\":{\"fill\":{\"color\":\"#EBF0F8\"},\"line\":{\"color\":\"white\"}},\"header\":{\"fill\":{\"color\":\"#C8D4E3\"},\"line\":{\"color\":\"white\"}},\"type\":\"table\"}]},\"layout\":{\"annotationdefaults\":{\"arrowcolor\":\"#2a3f5f\",\"arrowhead\":0,\"arrowwidth\":1},\"autotypenumbers\":\"strict\",\"coloraxis\":{\"colorbar\":{\"outlinewidth\":0,\"ticks\":\"\"}},\"colorscale\":{\"diverging\":[[0,\"#8e0152\"],[0.1,\"#c51b7d\"],[0.2,\"#de77ae\"],[0.3,\"#f1b6da\"],[0.4,\"#fde0ef\"],[0.5,\"#f7f7f7\"],[0.6,\"#e6f5d0\"],[0.7,\"#b8e186\"],[0.8,\"#7fbc41\"],[0.9,\"#4d9221\"],[1,\"#276419\"]],\"sequential\":[[0.0,\"#0d0887\"],[0.1111111111111111,\"#46039f\"],[0.2222222222222222,\"#7201a8\"],[0.3333333333333333,\"#9c179e\"],[0.4444444444444444,\"#bd3786\"],[0.5555555555555556,\"#d8576b\"],[0.6666666666666666,\"#ed7953\"],[0.7777777777777778,\"#fb9f3a\"],[0.8888888888888888,\"#fdca26\"],[1.0,\"#f0f921\"]],\"sequentialminus\":[[0.0,\"#0d0887\"],[0.1111111111111111,\"#46039f\"],[0.2222222222222222,\"#7201a8\"],[0.3333333333333333,\"#9c179e\"],[0.4444444444444444,\"#bd3786\"],[0.5555555555555556,\"#d8576b\"],[0.6666666666666666,\"#ed7953\"],[0.7777777777777778,\"#fb9f3a\"],[0.8888888888888888,\"#fdca26\"],[1.0,\"#f0f921\"]]},\"colorway\":[\"#636efa\",\"#EF553B\",\"#00cc96\",\"#ab63fa\",\"#FFA15A\",\"#19d3f3\",\"#FF6692\",\"#B6E880\",\"#FF97FF\",\"#FECB52\"],\"font\":{\"color\":\"#2a3f5f\"},\"geo\":{\"bgcolor\":\"white\",\"lakecolor\":\"white\",\"landcolor\":\"#E5ECF6\",\"showlakes\":true,\"showland\":true,\"subunitcolor\":\"white\"},\"hoverlabel\":{\"align\":\"left\"},\"hovermode\":\"closest\",\"mapbox\":{\"style\":\"light\"},\"paper_bgcolor\":\"white\",\"plot_bgcolor\":\"#E5ECF6\",\"polar\":{\"angularaxis\":{\"gridcolor\":\"white\",\"linecolor\":\"white\",\"ticks\":\"\"},\"bgcolor\":\"#E5ECF6\",\"radialaxis\":{\"gridcolor\":\"white\",\"linecolor\":\"white\",\"ticks\":\"\"}},\"scene\":{\"xaxis\":{\"backgroundcolor\":\"#E5ECF6\",\"gridcolor\":\"white\",\"gridwidth\":2,\"linecolor\":\"white\",\"showbackground\":true,\"ticks\":\"\",\"zerolinecolor\":\"white\"},\"yaxis\":{\"backgroundcolor\":\"#E5ECF6\",\"gridcolor\":\"white\",\"gridwidth\":2,\"linecolor\":\"white\",\"showbackground\":true,\"ticks\":\"\",\"zerolinecolor\":\"white\"},\"zaxis\":{\"backgroundcolor\":\"#E5ECF6\",\"gridcolor\":\"white\",\"gridwidth\":2,\"linecolor\":\"white\",\"showbackground\":true,\"ticks\":\"\",\"zerolinecolor\":\"white\"}},\"shapedefaults\":{\"line\":{\"color\":\"#2a3f5f\"}},\"ternary\":{\"aaxis\":{\"gridcolor\":\"white\",\"linecolor\":\"white\",\"ticks\":\"\"},\"baxis\":{\"gridcolor\":\"white\",\"linecolor\":\"white\",\"ticks\":\"\"},\"bgcolor\":\"#E5ECF6\",\"caxis\":{\"gridcolor\":\"white\",\"linecolor\":\"white\",\"ticks\":\"\"}},\"title\":{\"x\":0.05},\"xaxis\":{\"automargin\":true,\"gridcolor\":\"white\",\"linecolor\":\"white\",\"ticks\":\"\",\"title\":{\"standoff\":15},\"zerolinecolor\":\"white\",\"zerolinewidth\":2},\"yaxis\":{\"automargin\":true,\"gridcolor\":\"white\",\"linecolor\":\"white\",\"ticks\":\"\",\"title\":{\"standoff\":15},\"zerolinecolor\":\"white\",\"zerolinewidth\":2}}},\"xaxis\":{\"anchor\":\"y\",\"domain\":[0.0,1.0],\"title\":{\"text\":\"x\"}},\"yaxis\":{\"anchor\":\"x\",\"domain\":[0.0,1.0],\"title\":{\"text\":\"y\"}},\"coloraxis\":{\"colorbar\":{\"title\":{\"text\":\"labels\"}},\"colorscale\":[[0.0,\"#0d0887\"],[0.1111111111111111,\"#46039f\"],[0.2222222222222222,\"#7201a8\"],[0.3333333333333333,\"#9c179e\"],[0.4444444444444444,\"#bd3786\"],[0.5555555555555556,\"#d8576b\"],[0.6666666666666666,\"#ed7953\"],[0.7777777777777778,\"#fb9f3a\"],[0.8888888888888888,\"#fdca26\"],[1.0,\"#f0f921\"]]},\"legend\":{\"tracegroupgap\":0},\"margin\":{\"t\":60}},                        {\"responsive\": true}                    ).then(function(){\n                            \nvar gd = document.getElementById('5fc544f9-2775-4b07-872d-4ef87f8f45a2');\nvar x = new MutationObserver(function (mutations, observer) {{\n        var display = window.getComputedStyle(gd).display;\n        if (!display || display === 'none') {{\n            console.log([gd, 'removed!']);\n            Plotly.purge(gd);\n            observer.disconnect();\n        }}\n}});\n\n// Listen for the removal of the full notebook cells\nvar notebookContainer = gd.closest('#notebook-container');\nif (notebookContainer) {{\n    x.observe(notebookContainer, {childList: true});\n}}\n\n// Listen for the clearing of the current output cell\nvar outputEl = gd.closest('.output');\nif (outputEl) {{\n    x.observe(outputEl, {childList: true});\n}}\n\n                        })                };                            </script>        </div>\n</body>\n</html>"
                },
                "metadata": {}
              }
            ],
            "_view_module": "@jupyter-widgets/output",
            "_model_module_version": "1.0.0",
            "_view_count": null,
            "_view_module_version": "1.0.0",
            "layout": "IPY_MODEL_02a3fea5b3dc419fac3eeac2a0e8f708",
            "_model_module": "@jupyter-widgets/output"
          }
        },
        "8061a491f9604c9390f8b560a650c267": {
          "model_module": "@jupyter-widgets/controls",
          "model_name": "SliderStyleModel",
          "model_module_version": "1.5.0",
          "state": {
            "_view_name": "StyleView",
            "handle_color": null,
            "_model_name": "SliderStyleModel",
            "description_width": "",
            "_view_module": "@jupyter-widgets/base",
            "_model_module_version": "1.5.0",
            "_view_count": null,
            "_view_module_version": "1.2.0",
            "_model_module": "@jupyter-widgets/controls"
          }
        },
        "b2377d1d05fa47d8a41a9dd4298ca89e": {
          "model_module": "@jupyter-widgets/base",
          "model_name": "LayoutModel",
          "model_module_version": "1.2.0",
          "state": {
            "_view_name": "LayoutView",
            "grid_template_rows": null,
            "right": null,
            "justify_content": null,
            "_view_module": "@jupyter-widgets/base",
            "overflow": null,
            "_model_module_version": "1.2.0",
            "_view_count": null,
            "flex_flow": null,
            "width": null,
            "min_width": null,
            "border": null,
            "align_items": null,
            "bottom": null,
            "_model_module": "@jupyter-widgets/base",
            "top": null,
            "grid_column": null,
            "overflow_y": null,
            "overflow_x": null,
            "grid_auto_flow": null,
            "grid_area": null,
            "grid_template_columns": null,
            "flex": null,
            "_model_name": "LayoutModel",
            "justify_items": null,
            "grid_row": null,
            "max_height": null,
            "align_content": null,
            "visibility": null,
            "align_self": null,
            "height": null,
            "min_height": null,
            "padding": null,
            "grid_auto_rows": null,
            "grid_gap": null,
            "max_width": null,
            "order": null,
            "_view_module_version": "1.2.0",
            "grid_template_areas": null,
            "object_position": null,
            "object_fit": null,
            "grid_auto_columns": null,
            "margin": null,
            "display": null,
            "left": null
          }
        },
        "02a3fea5b3dc419fac3eeac2a0e8f708": {
          "model_module": "@jupyter-widgets/base",
          "model_name": "LayoutModel",
          "model_module_version": "1.2.0",
          "state": {
            "_view_name": "LayoutView",
            "grid_template_rows": null,
            "right": null,
            "justify_content": null,
            "_view_module": "@jupyter-widgets/base",
            "overflow": null,
            "_model_module_version": "1.2.0",
            "_view_count": null,
            "flex_flow": null,
            "width": null,
            "min_width": null,
            "border": null,
            "align_items": null,
            "bottom": null,
            "_model_module": "@jupyter-widgets/base",
            "top": null,
            "grid_column": null,
            "overflow_y": null,
            "overflow_x": null,
            "grid_auto_flow": null,
            "grid_area": null,
            "grid_template_columns": null,
            "flex": null,
            "_model_name": "LayoutModel",
            "justify_items": null,
            "grid_row": null,
            "max_height": null,
            "align_content": null,
            "visibility": null,
            "align_self": null,
            "height": null,
            "min_height": null,
            "padding": null,
            "grid_auto_rows": null,
            "grid_gap": null,
            "max_width": null,
            "order": null,
            "_view_module_version": "1.2.0",
            "grid_template_areas": null,
            "object_position": null,
            "object_fit": null,
            "grid_auto_columns": null,
            "margin": null,
            "display": null,
            "left": null
          }
        }
      }
    }
  },
  "nbformat": 4,
  "nbformat_minor": 5
}