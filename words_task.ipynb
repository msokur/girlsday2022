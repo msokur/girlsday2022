{
 "cells": [
  {
   "cell_type": "markdown",
   "id": "1ac2c0aa",
   "metadata": {
    "id": "1ac2c0aa"
   },
   "source": [
    "Hallo!\n",
    "Heute spielen wir mit deutschen Wörtern!\n",
    "\n",
    "Ein Computer kann nicht wie wir „Wörter“ verstehen, er kann nur Zahlen „verstehen\". Wir müssen also Wörter in Zahlen (Vektoren) übersetzen.\n",
    "\n",
    "Es gibt viele Möglichkeiten, dies zu tun. Eine einfache Möglichkeit besteht darin, sie einfach zu nummerieren: 'der' -> 1, 'die' -> 2 usw. Aber es gibt bessere Möglichkeiten - eine davon besteht z.B. darin, ähnlichen Wörtern ähnliche Nummern zu geben.\n",
    "\n",
    "Dann können wir ähnliche Wörter gruppieren, sehen, wie nah sie beieinander liegen, und weitere interessante Dinge.\n",
    "\n",
    "Dies wird zum Beispiel verwendet, wenn ihr etwas googelt. Die Ergebnisse werden auch Wörter enthalten, die denen ähneln, die ihr in der Suche eingegeben habt ('doggy' -> 'dog' usw.) .\n",
    "\n",
    "Heute werdet ihr:\n",
    "- einige deutsche Wörter anschauen und herausfinden, wie nah sie beieinander liegen\n",
    "- eure eigenen Wörter hinzufügen\n",
    "- nachsehen, ob es Gruppen ähnlicher Wörter gibt und für die eventuell gefundenen Gruppen Namen vergeben.\n",
    "\n",
    "Wenn ihr das interessant findet und mehr darüber erfahren wollt, hier noch weiterführende Aufgaben:\n",
    "- Findet die 5 ähnlichsten Wörter zu einem anderen Wort.\n",
    "- Findet heraus, wie ähnlich sich zwei Wörter sind.\n",
    "\n",
    "Oben seht ihr „Zellen\". Um eine Zelle auszuführen, drückt Shift+Enter.\n",
    "Ihr könnt Zellen so oft ausführen, wie ihr möchtet.\n"
   ]
  },
  {
   "cell_type": "code",
   "execution_count": null,
   "id": "cb94a1d6",
   "metadata": {
    "id": "cb94a1d6"
   },
   "outputs": [],
   "source": [
    "#hier nichts zu tun, einfach ausführen (Shift + Enter)\n",
    "\n",
    "import numpy as np\n",
    "from sklearn.cluster import KMeans\n",
    "\n",
    "print('Erfolg!')"
   ]
  },
  {
   "cell_type": "code",
   "execution_count": null,
   "id": "7b9fd90f",
   "metadata": {},
   "outputs": [],
   "source": [
    "#hier nichts zu tun, einfach ausführen (Shift + Enter)\n",
    "\n",
    "vectors = np.load('vectors10000.npz', allow_pickle=True)\n",
    "X_2d = vectors['X_2d']\n",
    "X_words = vectors['X_words']\n",
    "\n",
    "print('Erfolg!')"
   ]
  },
  {
   "cell_type": "markdown",
   "id": "d8cac1ae",
   "metadata": {
    "id": "d8cac1ae"
   },
   "source": [
    "## Spielplatz №1. Wähl deine Wörter\n",
    "Du kannst:\n",
    "- nichts tun und alles so laufen lassen, wie es ist\n",
    "- Fügen Wörter hinzu, die du möchtest (in Anführungszeichen, wie `'Freitag'`), vergiss das Komma am Ende nicht!\n",
    "- Wörter löschen\n",
    "- Wörter durch _Auskommentieren_ ignorieren: einfach `#` vor das Wort setzen (siehe Beispiel bei 'Kathrin')\n",
    "- fügen sie (Wörter) wieder hinzu, indem du '#' löschst\n"
   ]
  },
  {
   "cell_type": "code",
   "execution_count": null,
   "id": "d79feffe",
   "metadata": {
    "id": "d79feffe"
   },
   "outputs": [],
   "source": [
    "words = [\n",
    "    'der',\n",
    "    'die',\n",
    "    'das',\n",
    "    'Straße',\n",
    "    'Straßenbahn',\n",
    "    'Haus',\n",
    "    'Tier',\n",
    "    #'Kathrin',\n",
    "    'Christian',\n",
    "    'schwimmen',\n",
    "    'in',\n",
    "    'Katze',\n",
    "    'im',\n",
    "    'Angst',\n",
    "    'Herr',\n",
    "    'Schule',\n",
    "    'Osten',\n",
    "    'Anna',\n",
    "    'England',\n",
    "    'Bär',\n",
    "    'Wahrheit',\n",
    "    'Deutschland',\n",
    "    'Idee',\n",
    "    'spielen',\n",
    "    'dem',\n",
    "    'Berlin',\n",
    "    'Traum',\n",
    "    'Zeit',\n",
    "    'Spiegel',\n",
    "    'Freundschaft',\n",
    "    'Liebe',\n",
    "    'Göttin',\n",
    "    'Film',\n",
    "    'Lüge',\n",
    "    'Tür',\n",
    "    'Frau',\n",
    "    'Mann',\n",
    "    'Raum',\n",
    "    'Haare',\n",
    "    'Geld',\n",
    "    'Internet',\n",
    "    'KI',\n",
    "    \n",
    "]\n",
    "\n",
    "print('Erfolg!')"
   ]
  },
  {
   "cell_type": "code",
   "execution_count": null,
   "id": "9589bfd1",
   "metadata": {
    "id": "9589bfd1"
   },
   "outputs": [],
   "source": [
    "#ausführen (Shift + Enter) und prüfen, ob alle Wörter im Wörterbuch vorhanden sind\n",
    "\n",
    "words = np.array(list(map(lambda w: w.lower(), words)))\n",
    "ind = np.flatnonzero([word_ in words for word_ in X_words])\n",
    "\n",
    "if ind.shape[0] != words.shape[0]:\n",
    "  print('Warnung! Überprüfe diese Wörter: ', set(words) - set(X_words[ind]))\n",
    "  print('Es könnte falsch geschrieben oder nicht verfügbar sein')\n",
    "\n",
    "print('Anzahl der Wörter, die du geschrieben hast, und Anzahl davon im Wörterbuch:s', words.shape, X_words[ind].shape)"
   ]
  },
  {
   "cell_type": "markdown",
   "id": "9657cd6e",
   "metadata": {
    "id": "9657cd6e"
   },
   "source": [
    "## Spielplatz №2. Wörter gruppieren  \n",
    "Hier siehst du die Wörter auf dem Bildschirm. Du kannst sehen, dass einige Wörter nahe beieinander liegen, andere nicht.\n",
    "\n",
    "Es gibt einen Schieberegler über der Handlung.\n",
    "- Versuch es zu ziehen und sieh, was es tut!\n",
    "- Find die beste Anzahl von Gruppen\n",
    "- Sieh nach, ob es interessante Wortgruppen gibt\n",
    "- Versuch, den Gruppen Namen zu geben\n",
    "- Überrascht dich etwas? Sind Wörter nicht dort, wo du sie erwartet?\n",
    "- Denk an ein Wort und versuch zu erraten, wo es auf dem Bildschirm erscheinen wird. Dann füg es hinzu und sieh, ob es da ist!\n",
    "\n",
    "Versuch, auf alle Schaltflächen oben rechts auf dem Bildschirm zu klicken, und sieh, was sie bewirken!\n",
    "\n",
    "Du kannst:\n",
    "- Vergrößern und verkleinern\n",
    "- Klick und zieh, um sich zu bewegen, sobald du hineingezoomt hast\n"
   ]
  },
  {
   "cell_type": "code",
   "execution_count": null,
   "id": "f820af35",
   "metadata": {
    "id": "f820af35"
   },
   "outputs": [],
   "source": [
    "import plotly.express as px\n",
    "from ipywidgets import interact\n",
    "import ipywidgets as widgets\n",
    "\n",
    "\n",
    "def plot_func(groups):\n",
    "    X_plotly = {\n",
    "        'words': X_words[ind],\n",
    "        'x': X_2d[ind, 0],\n",
    "        'y': X_2d[ind, 1]\n",
    "    }\n",
    "\n",
    "\n",
    "    kmeans = KMeans(n_clusters=int(groups), random_state=0).fit(X_2d[ind])\n",
    "    labels_pred = kmeans.predict(X_2d[ind])\n",
    "    X_plotly['labels'] = labels_pred\n",
    "\n",
    "    fig = px.scatter(X_plotly, x=\"x\", y=\"y\", text=\"words\", color='labels')\n",
    "    fig.update_traces(textposition='top center')\n",
    "    fig.show()\n",
    "\n",
    "interact(plot_func, groups = widgets.FloatSlider(value=5,\n",
    "                                               min=1,\n",
    "                                               max=10,\n",
    "                                               step=1))"
   ]
  },
  {
   "cell_type": "markdown",
   "id": "efcb5235",
   "metadata": {
    "id": "efcb5235"
   },
   "source": [
    "## Erklärung von und word2vec \n",
    "\n",
    "![1*b2sO2f--yfZiJazc5rYSpg.gif](https://miro.medium.com/max/875/1*b2sO2f--yfZiJazc5rYSpg.gif)\n",
    "\n",
    "Wenn du verstehen möchtest, wie Gruppierung (K-Means) funktioniert, könntest du dich das Video ansehen: https://www.youtube.com/watch?v=Gn6fPYD1oIU\n"
   ]
  },
  {
   "cell_type": "markdown",
   "id": "ba177c38",
   "metadata": {
    "id": "ba177c38"
   },
   "source": [
    "## Spielspatz 3. Find die ähnlichsten Wörter\n",
    "Hier könntest du versuchen:\n",
    "1. Bestimmen, wie ähnlich sich zwei Wörter sind, wobei 1 - sehr ähnlich, 0 - überhaupt nicht ähnlich ist\n",
    "2. Holen sich Top-10 ähnliche Wörter zu einem bestimmten Wort"
   ]
  },
  {
   "cell_type": "code",
   "execution_count": null,
   "id": "c6c754fa",
   "metadata": {},
   "outputs": [],
   "source": [
    "import requests\n",
    "import os\n",
    "\n",
    "url_model = 'https://filesync.medizin.uni-leipzig.de/f/1d569d6e00f44e9ca2dd/?dl=1'\n",
    "model_filename = 'german.model'\n",
    "if not os.path.exists(model_filename):\n",
    "    r = requests.get(url_model, allow_redirects=True)\n",
    "    open(model_filename, 'wb').write(r.content)\n",
    "    \n",
    "print('Erfolg!')"
   ]
  },
  {
   "cell_type": "code",
   "execution_count": null,
   "id": "a4e9e7d2",
   "metadata": {
    "id": "a4e9e7d2"
   },
   "outputs": [],
   "source": [
    "#hier nichts zu tun, einfach ausführen (Shift + Enter)\n",
    "\n",
    "from gensim.models import KeyedVectors\n",
    "\n",
    "model = KeyedVectors.load_word2vec_format('german.model', binary=True)\n",
    "print('Erfolg!')"
   ]
  },
  {
   "cell_type": "code",
   "execution_count": null,
   "id": "SzNzQOpihs9n",
   "metadata": {
    "id": "SzNzQOpihs9n"
   },
   "outputs": [],
   "source": [
    "# Geben Sie zwei Wörter an und sehen Sie, wie ähnlich sie sind, wobei 1 - sehr ähnlich, 0 - überhaupt nicht ähnlich ist\n",
    "\n",
    "model.similarity('Singularitaet', 'Schwarz')"
   ]
  },
  {
   "cell_type": "code",
   "execution_count": null,
   "id": "Qe7L6-sqhtLh",
   "metadata": {
    "id": "Qe7L6-sqhtLh",
    "scrolled": true
   },
   "outputs": [],
   "source": [
    "# Gib ein Wort ein und erhalte Top-10 ähnlicher Wörter\n",
    "\n",
    "model.most_similar('Baerlauch')"
   ]
  },
  {
   "cell_type": "code",
   "execution_count": null,
   "id": "dc5ce804",
   "metadata": {},
   "outputs": [],
   "source": []
  }
 ],
 "metadata": {
  "colab": {
   "collapsed_sections": [],
   "name": "words_task.ipynb",
   "provenance": [],
   "toc_visible": true
  },
  "kernelspec": {
   "display_name": "Python 3",
   "language": "python",
   "name": "python3"
  },
  "language_info": {
   "codemirror_mode": {
    "name": "ipython",
    "version": 3
   },
   "file_extension": ".py",
   "mimetype": "text/x-python",
   "name": "python",
   "nbconvert_exporter": "python",
   "pygments_lexer": "ipython3",
   "version": "3.8.8"
  }
 },
 "nbformat": 4,
 "nbformat_minor": 5
}
